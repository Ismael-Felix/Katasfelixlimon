{
 "cells": [
  {
   "cell_type": "markdown",
   "metadata": {},
   "source": []
  },
  {
   "cell_type": "code",
   "execution_count": 16,
   "metadata": {},
   "outputs": [
    {
     "name": "stdout",
     "output_type": "stream",
     "text": [
      " A correr por sus vidadas\n"
     ]
    }
   ],
   "source": [
    "velocidadMaxima = 25 \n",
    "Asteroide = 47 \n",
    "if velocidadMaxima < Asteroide:\n",
    " print (\" A correr por sus vidadas\" ) \n",
    "else :\n",
    "    print (\"Sin novedad\")"
   ]
  },
  {
   "cell_type": "code",
   "execution_count": 17,
   "metadata": {},
   "outputs": [
    {
     "name": "stdout",
     "output_type": "stream",
     "text": [
      "¡Nada que ver aquí!\n"
     ]
    }
   ],
   "source": [
    "asteroide = 19\n",
    "if asteroide > 20:\n",
    "    print('Look up! ¡Hay una luz mágica en el cielo!')\n",
    "elif asteroide == 20:\n",
    "    print('Look up! ¡Hay una luz mágica en el cielo!')\n",
    "else:\n",
    "    print('¡Nada que ver aquí!')"
   ]
  },
  {
   "cell_type": "code",
   "execution_count": 53,
   "metadata": {},
   "outputs": [
    {
     "name": "stdout",
     "output_type": "stream",
     "text": [
      "Tendremos muchas luces en el cielo\n"
     ]
    }
   ],
   "source": [
    "tamaño = 10\n",
    "velocidad =25\n",
    "if  tamaño > 25  and  velocidad > 25:\n",
    "    print(\"vamos a morir\")\n",
    "elif velocidad >= 20:\n",
    "    print(\"Tendremos muchas luces en el cielo\")\n",
    "elif tamaño  < 25:\n",
    "    print(\"Sin novedad\")\n",
    "else: \n",
    "    print(\"Sin novedad\")\n",
    "\n"
   ]
  }
 ],
 "metadata": {
  "interpreter": {
   "hash": "71bcaa43f3b56b542345a9d4d66d54e069f9b5455671d2caf48d88358c5bd0bf"
  },
  "kernelspec": {
   "display_name": "Python 3.10.2 64-bit",
   "language": "python",
   "name": "python3"
  },
  "language_info": {
   "codemirror_mode": {
    "name": "ipython",
    "version": 3
   },
   "file_extension": ".py",
   "mimetype": "text/x-python",
   "name": "python",
   "nbconvert_exporter": "python",
   "pygments_lexer": "ipython3",
   "version": "3.10.2"
  },
  "orig_nbformat": 4
 },
 "nbformat": 4,
 "nbformat_minor": 2
}
