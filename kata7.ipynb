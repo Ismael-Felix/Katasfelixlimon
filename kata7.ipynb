{
 "cells": [
  {
   "cell_type": "markdown",
   "metadata": {},
   "source": [
    "# While"
   ]
  },
  {
   "cell_type": "code",
   "execution_count": 8,
   "metadata": {},
   "outputs": [
    {
     "name": "stdout",
     "output_type": "stream",
     "text": [
      "[' ', 'mercurio', 'saturno', 'venus', 'tierra', 'marte', 'jupitter']\n"
     ]
    }
   ],
   "source": [
    "nuevo_planeta = \" \"\n",
    "planeta = [  ]\n",
    "while nuevo_planeta.lower() != \"done\":\n",
    "    if nuevo_planeta :\n",
    "        planeta.append( nuevo_planeta)\n",
    "    nuevo_planeta = input(\"Nuevo planeta \")  \n",
    "\n",
    "print(planeta)"
   ]
  },
  {
   "cell_type": "code",
   "execution_count": 11,
   "metadata": {},
   "outputs": [
    {
     "name": "stdout",
     "output_type": "stream",
     "text": [
      " \n",
      "mercurio\n",
      "saturno\n",
      "venus\n",
      "tierra\n",
      "marte\n",
      "jupitter\n"
     ]
    }
   ],
   "source": [
    "from time import sleep \n",
    "\n",
    "for planetas in planeta: \n",
    " print(planetas)\n",
    " sleep ( 2)"
   ]
  }
 ],
 "metadata": {
  "interpreter": {
   "hash": "71bcaa43f3b56b542345a9d4d66d54e069f9b5455671d2caf48d88358c5bd0bf"
  },
  "kernelspec": {
   "display_name": "Python 3.10.2 64-bit",
   "language": "python",
   "name": "python3"
  },
  "language_info": {
   "codemirror_mode": {
    "name": "ipython",
    "version": 3
   },
   "file_extension": ".py",
   "mimetype": "text/x-python",
   "name": "python",
   "nbconvert_exporter": "python",
   "pygments_lexer": "ipython3",
   "version": "3.10.2"
  },
  "orig_nbformat": 4
 },
 "nbformat": 4,
 "nbformat_minor": 2
}
