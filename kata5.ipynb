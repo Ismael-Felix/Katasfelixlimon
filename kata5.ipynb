{
 "cells": [
  {
   "cell_type": "markdown",
   "metadata": {},
   "source": [
    "# Distancia de planetas "
   ]
  },
  {
   "cell_type": "code",
   "execution_count": 16,
   "metadata": {},
   "outputs": [
    {
     "name": "stdout",
     "output_type": "stream",
     "text": [
      "La distancia entre los planetas es 628949330 km \n",
      "Distancia en millas 386174888.62\n"
     ]
    }
   ],
   "source": [
    "distancia_planeta1 = 149597870\n",
    "distancia_planeta2 = 778547200\n",
    "\n",
    "distancia_entre_planetas = distancia_planeta1 - distancia_planeta2 \n",
    "print( \"La distancia entre los planetas es \" +  str(abs(distancia_entre_planetas)) + \" km \")\n",
    "\n",
    "distancia_millas = distancia_entre_planetas * 0.614\n",
    "print(\"Distancia en millas \" + str(abs(distancia_millas)))\n"
   ]
  },
  {
   "cell_type": "markdown",
   "metadata": {},
   "source": [
    "Ejercicio 2"
   ]
  },
  {
   "cell_type": "code",
   "execution_count": 19,
   "metadata": {},
   "outputs": [
    {
     "name": "stdout",
     "output_type": "stream",
     "text": [
      "La distancia entre los planetas es 34563998 km \n",
      "Distancia en millas 21222294.772\n"
     ]
    }
   ],
   "source": [
    "primer_planeta = input(\"Distancia primer planera\")\n",
    "segundo_planeta = input(\"Distancia segundo planeta\")\n",
    "\n",
    "primer_planeta = int(primer_planeta)\n",
    "segundo_planeta = int(segundo_planeta)\n",
    "\n",
    "distancia_planeta = primer_planeta - segundo_planeta \n",
    "print( \"La distancia entre los planetas es \" +  str(abs(distancia_planeta)) + \" km \")\n",
    "\n",
    "distancia_milla = distancia_planeta * 0.614\n",
    "print(\"Distancia en millas \" + str(abs(distancia_milla)))+\n"
   ]
  }
 ],
 "metadata": {
  "interpreter": {
   "hash": "71bcaa43f3b56b542345a9d4d66d54e069f9b5455671d2caf48d88358c5bd0bf"
  },
  "kernelspec": {
   "display_name": "Python 3.10.2 64-bit",
   "language": "python",
   "name": "python3"
  },
  "language_info": {
   "codemirror_mode": {
    "name": "ipython",
    "version": 3
   },
   "file_extension": ".py",
   "mimetype": "text/x-python",
   "name": "python",
   "nbconvert_exporter": "python",
   "pygments_lexer": "ipython3",
   "version": "3.10.2"
  },
  "orig_nbformat": 4
 },
 "nbformat": 4,
 "nbformat_minor": 2
}
