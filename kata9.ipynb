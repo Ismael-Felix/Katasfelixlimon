{
 "cells": [
  {
   "cell_type": "code",
   "execution_count": 6,
   "metadata": {},
   "outputs": [
    {
     "name": "stdout",
     "output_type": "stream",
     "text": [
      "Fuel Report:\n",
      " promedio_tanque : 28.333333333333332%\n",
      " tanque1 : 45%\n",
      " tanque2 :15%\n",
      " tanque3 :25%\n",
      " \n"
     ]
    }
   ],
   "source": [
    "def reporte(tanque1, tanque2, tanque3) : \n",
    " promedio_tanque = ( tanque1 + tanque2 + tanque3) / 3\n",
    " return f\"\"\"Fuel Report:\n",
    " promedio_tanque : {promedio_tanque}%\n",
    " tanque1 : {tanque1}%\n",
    " tanque2 :{tanque2}%\n",
    " tanque3 :{tanque3}%\n",
    " \"\"\"\n",
    "\n",
    "print(reporte(45,15,25))"
   ]
  },
  {
   "cell_type": "code",
   "execution_count": 12,
   "metadata": {},
   "outputs": [
    {
     "data": {
      "text/plain": [
       "60.25"
      ]
     },
     "execution_count": 12,
     "metadata": {},
     "output_type": "execute_result"
    }
   ],
   "source": [
    "def promedio( values): \n",
    "    total = sum(values)\n",
    "    numero = len(values)\n",
    "    return total / numero \n",
    "\n",
    "promedio( [52,51,56,82])\n",
    "\n",
    "\n",
    "\n",
    "\n"
   ]
  },
  {
   "cell_type": "code",
   "execution_count": 17,
   "metadata": {},
   "outputs": [
    {
     "name": "stdout",
     "output_type": "stream",
     "text": [
      "Fuel Report:\n",
      " promedio_tanque : 272.6666666666667%\n",
      " tanque1 : 64%\n",
      " tanque2 :659%\n",
      " tanque3 :95% \n"
     ]
    }
   ],
   "source": [
    "def reporte(tanque1, tanque2, tanque3) : \n",
    " return f\"\"\"Fuel Report:\n",
    " promedio_tanque : {promedio([tanque1, tanque2, tanque3])}%\n",
    " tanque1 : {tanque1}%\n",
    " tanque2 :{tanque2}%\n",
    " tanque3 :{tanque3}% \"\"\" \n",
    "\n",
    "print(reporte(64, 659, 95,))"
   ]
  }
 ],
 "metadata": {
  "interpreter": {
   "hash": "71bcaa43f3b56b542345a9d4d66d54e069f9b5455671d2caf48d88358c5bd0bf"
  },
  "kernelspec": {
   "display_name": "Python 3.10.2 64-bit",
   "language": "python",
   "name": "python3"
  },
  "language_info": {
   "codemirror_mode": {
    "name": "ipython",
    "version": 3
   },
   "file_extension": ".py",
   "mimetype": "text/x-python",
   "name": "python",
   "nbconvert_exporter": "python",
   "pygments_lexer": "ipython3",
   "version": "3.10.2"
  },
  "orig_nbformat": 4
 },
 "nbformat": 4,
 "nbformat_minor": 2
}
